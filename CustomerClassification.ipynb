{
  "nbformat": 4,
  "nbformat_minor": 0,
  "metadata": {
    "colab": {
      "provenance": [],
      "authorship_tag": "ABX9TyP2LN0lbt4lB46S6iF3dAxl",
      "include_colab_link": true
    },
    "kernelspec": {
      "name": "python3",
      "display_name": "Python 3"
    },
    "language_info": {
      "name": "python"
    }
  },
  "cells": [
    {
      "cell_type": "markdown",
      "metadata": {
        "id": "view-in-github",
        "colab_type": "text"
      },
      "source": [
        "<a href=\"https://colab.research.google.com/github/bubu2003/customerClassification/blob/main/CustomerClassification.ipynb\" target=\"_parent\"><img src=\"https://colab.research.google.com/assets/colab-badge.svg\" alt=\"Open In Colab\"/></a>"
      ]
    },
    {
      "cell_type": "code",
      "source": [
        "import numpy as np\n",
        "import pandas as pd\n",
        "\n",
        "# Set random seed for reproducibility\n",
        "np.random.seed(42)\n",
        "\n",
        "# Number of customers\n",
        "n_customers = 500\n",
        "\n",
        "# Generate synthetic features\n",
        "ages = np.random.randint(18, 70, n_customers)\n",
        "genders = np.random.randint(0, 2, n_customers)  # 0: Female, 1: Male\n",
        "income = np.random.normal(50, 15, n_customers).round(2)  # Mean: 50k, Std: 15k\n",
        "purchase_freq = np.random.poisson(3, n_customers)  # Avg 3 purchases/month\n",
        "\n",
        "# Simulate churn: likely to churn if income < 40 and purchase_freq < 3\n",
        "churn = ((income < 40) & (purchase_freq < 3)).astype(int)\n",
        "\n",
        "# Create DataFrame\n",
        "df_customers = pd.DataFrame({\n",
        "    'Age': ages,\n",
        "    'Gender': genders,\n",
        "    'Income': income,\n",
        "    'PurchaseFrequency': purchase_freq,\n",
        "    'Churn': churn\n",
        "})\n",
        "# Save to CSV\n",
        "df_customers.to_csv(\"customers.csv\", index=False)\n",
        "\n",
        "print(\"Customer data created and saved to 'customers.csv'\")\n",
        "print(df_customers.head())\n"
      ],
      "metadata": {
        "id": "21ZTPiYVUmo_"
      },
      "execution_count": null,
      "outputs": []
    },
    {
      "cell_type": "code",
      "source": [
        "\n",
        "\n",
        "\n",
        "import matplotlib.pyplot as plt\n",
        "import seaborn as sns\n",
        "\n",
        "from sklearn.model_selection import train_test_split\n",
        "from sklearn.linear_model import LogisticRegression\n",
        "from sklearn.metrics import accuracy_score, confusion_matrix, classification_report\n",
        "\n",
        "df = pd.read_csv(\"customers.csv\")\n",
        "\n",
        "# Show top rows\n",
        "df.head()\n",
        "\n",
        "# Churn distribution\n",
        "sns.countplot(data=df, x='Churn')\n",
        "plt.title(\"Customer Churn Distribution\")\n",
        "plt.show()\n",
        "\n",
        "# Correlation matrix\n",
        "sns.heatmap(df.corr(), annot=True, cmap=\"coolwarm\")\n",
        "plt.title(\"Correlation Matrix\")\n",
        "plt.show()\n"
      ],
      "metadata": {
        "id": "LjbHKxtLU8HU"
      },
      "execution_count": null,
      "outputs": []
    },
    {
      "cell_type": "code",
      "source": [
        "# New sample customer\n",
        "new_customer = pd.DataFrame({\n",
        "    'Age': [28],\n",
        "    'Gender': [1],\n",
        "    'Income': [37],\n",
        "    'PurchaseFrequency': [2]\n",
        "})\n",
        "\n",
        "# Predict churn\n",
        "prediction = model.predict(new_customer)[0]\n",
        "\n",
        "# Display prediction result with label\n",
        "if prediction == 1:\n",
        "    print(\"⚠ This customer is likely to CHURN. Consider offering retention benefits.\")\n",
        "else:\n",
        "    print(\"This customer is likely to STAY. Continue engagement as usual.\")\n",
        "# 📌 Logistic Regression Mathematics Explained\n",
        "\n",
        "# Logistic Regression predicts probability of churn using this formula:\n",
        "# P(y=1) = 1 / (1 + e^-(b0 + b1*x1 + b2*x2 + ... + bn*xn))\n",
        "\n",
        "\n",
        "\n",
        "# Let's take one customer example:\n",
        "# Features: Age, Monthly Balance, Number of Transactions\n",
        "age = 45             # x1\n",
        "balance = 25000      # x2\n",
        "transactions = 6     # x3\n",
        "\n",
        "# Example coefficients learned by the model (for explanation)\n",
        "b0 = -4              # Intercept\n",
        "b1 = 0.05            # Coefficient for age\n",
        "b2 = 0.0001          # Coefficient for balance\n",
        "b3 = 0.3             # Coefficient for transactions\n",
        "\n",
        "# Step 1: Calculate linear score (z)\n",
        "z = b0 + (b1 * age) + (b2 * balance) + (b3 * transactions)\n",
        "print(\"Linear score (z):\", round(z, 4))\n",
        "\n",
        "\n",
        "\n"
      ],
      "metadata": {
        "id": "m9p9DzLwVFzv"
      },
      "execution_count": null,
      "outputs": []
    },
    {
      "cell_type": "code",
      "source": [
        "# Step 2: Apply sigmoid function to convert z to probability\n",
        "probability = 1 / (1 + np.exp(-z))\n",
        "print(\"Predicted probability of churn:\", round(probability, 4))\n",
        "\n",
        "# Step 3: Predict churn based on threshold 0.5\n",
        "if probability > 0.5:\n",
        "    print(\" This customer is likely to CHURN.\")\n",
        "else:\n",
        "    print(\" This customer is likely to STAY.\")\n",
        "\n",
        "\n",
        "from sklearn.tree import DecisionTreeClassifier, plot_tree\n",
        "\n",
        "clf = DecisionTreeClassifier(max_depth=6, random_state=42,criterion=\"entropy\")\n",
        "clf.fit(X_train, y_train)\n",
        "\n",
        "# Plot the Decision Tree\n",
        "plt.figure(figsize=(20, 10))\n",
        "plot_tree(\n",
        "    clf,\n",
        "    feature_names=X.columns,\n",
        "    class_names=['No Churn', 'Churn'],\n",
        "    filled=True,\n",
        "    rounded=True,\n",
        "    fontsize=12\n",
        ")\n",
        "plt.title(\"Decision Tree for Customer Churn Prediction\", fontsize=16)\n",
        "plt.show()\n",
        "\n",
        "feature_importance = pd.Series(clf.feature_importances_, index=X.columns)\n",
        "sns.barplot(x=feature_importance.values, y=feature_importance.index)\n",
        "plt.title(\"Feature Importance in Decision Tree\")\n",
        "plt.show()\n",
        "\n",
        "from sklearn.ensemble import RandomForestClassifier\n",
        "model = RandomForestClassifier(n_estimators=4, random_state=42)\n",
        "model.fit(X_train, y_train)\n",
        "\n",
        "# Step 7: Make predictions\n",
        "y_pred = model.predict(X_test)\n",
        "\n",
        "# Step 8: Evaluate the model\n",
        "print(\"Accuracy:\", accuracy_score(y_test, y_pred))\n",
        "print(\"\\nClassification Report:\\n\", classification_report(y_test, y_pred))\n",
        "print(\"\\nConfusion Matrix:\\n\", confusion_matrix(y_test, y_pred))\n",
        "\n",
        "# Step 9: Plot feature importances\n",
        "importances = pd.Series(model.feature_importances_, index=X.columns)\n",
        "importances.sort_values().plot(kind='barh', figsize=(10,6))\n",
        "plt.title(\"Feature Importances in Customer Classification\")\n",
        "plt.xlabel(\"Importance Score\")\n",
        "plt.ylabel(\"Features\")\n",
        "plt.show()"
      ],
      "metadata": {
        "id": "H826jUUNWESQ"
      },
      "execution_count": null,
      "outputs": []
    }
  ]
}